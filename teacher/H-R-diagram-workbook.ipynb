{
 "cells": [
  {
   "cell_type": "markdown",
   "metadata": {},
   "source": [
    "# Step 1 - Introduction\n",
    "Lead a discussion with the students that uncludes the following points:\n"
   ]
  },
  {
   "cell_type": "markdown",
   "metadata": {
    "slideshow": "notes"
   },
   "source": [
    "**Energy Output (Brightness) and Filters**\n",
    "* Stars give off different amounts of energy that causes them to have different brightnesses.\n",
    "* We measure the energy output by drawing a circle around the star and \"adding up\" all the light inside it.\n",
    "* The LSST telescope takes pictures using six different wavelength filters, because objects give off different amounts of energy at different wavelengths. The `u g r i z y` are the names of the different filters that LSST uses when it's taking pictures."
   ]
  },
  {
   "cell_type": "markdown",
   "metadata": {},
   "source": [
    "**Estimating Temperatures**\n",
    "* We have already talked about the blackbody emission curve. The key thing is a star always emits a spectrum of light of different colors in a characteristic shape, and the peak wavelength of that shape is directly related to the star's temperature (Wein's Law).\n",
    "* Using all the LSST filters, we can estimate the wavelength at the peak of its blackbody curve, and then we know its temperature.\n",
    "* To figure out the shape of the blackbody curve we need to take measurements using the `u g r i z y` filters and plot them on an energy output versus wavelength graph."
   ]
  },
  {
   "cell_type": "code",
   "execution_count": 12,
   "metadata": {
    "slideshow": "-"
   },
   "outputs": [],
   "source": [
    "import astropy # Actual Energy Output (units?) vs Wavelength(nm) graph"
   ]
  },
  {
   "cell_type": "markdown",
   "metadata": {},
   "source": [
    "* We use these measurements to plot a blackbody emission curve so it fits those points.\n",
    "* This lets us estimate the peak wavelength of the star and its temperature."
   ]
  },
  {
   "cell_type": "markdown",
   "metadata": {},
   "source": [
    "# Step 2 - Overview\n",
    "Give the students an overview of the data they'll be working with."
   ]
  },
  {
   "cell_type": "markdown",
   "metadata": {},
   "source": [
    "**Overview**\n",
    "* Today we're going to be doing this for a while bunch of stars. Each of you will get a patch of sky to work with and we'll find the brightness and temperature for as many stars as we can.\n",
    "* Afterwards we're going to look at our data and see if we can find any patterns. I hope you'll be pleased to find that even with these simple measurements we can learn a lot about the different types of stars."
   ]
  },
  {
   "cell_type": "code",
   "execution_count": 1,
   "metadata": {},
   "outputs": [
    {
     "name": "stdout",
     "output_type": "stream",
     "text": [
      "For NDOF =  2 , mean = 1.939  and variance = 3.227\n",
      "For NDOF =  10 , mean = 10.135  and variance = 21.696\n",
      "For NDOF =  50 , mean = 50.564  and variance = 101.765\n"
     ]
    },
    {
     "data": {
      "text/plain": [
       "[<matplotlib.lines.Line2D at 0x7f44dd09cda0>]"
      ]
     },
     "execution_count": 1,
     "metadata": {},
     "output_type": "execute_result"
    },
    {
     "data": {
      "image/png": "[encoded data removed]",
      "text/plain": [
       "<matplotlib.figure.Figure at 0x7f44dd4024a8>"
      ]
     },
     "metadata": {},
     "output_type": "display_data"
    }
   ],
   "source": [
    "%matplotlib inline\n",
    "\n",
    "import numpy as np\n",
    "import math as mt\n",
    "import matplotlib.pyplot as plt\n",
    "\n",
    "def probchisq(x,ndof):  #pdf for chi-squared\n",
    "    return 0.5*np.power(x/2,ndof/2.0-1)*np.exp(-x/2.0)/mt.gamma(ndof/2.0)\n",
    "\n",
    "nbins = 30\n",
    "x1=np.zeros(nbins)\n",
    "x2=np.zeros(nbins)\n",
    "x3=np.zeros(nbins)\n",
    "\n",
    "ndof1 = 2\n",
    "ndof2 = 10\n",
    "ndof3 = 50\n",
    "\n",
    "xdata1 = np.random.chisquare(ndof1,1000)\n",
    "xdata2 = np.random.chisquare(ndof2,1000)\n",
    "xdata3 = np.random.chisquare(ndof3,1000)\n",
    "\n",
    "xmean1 = xdata1.mean()\n",
    "xsig1 = xdata1.std()\n",
    "xvar1 = xsig1*xsig1\n",
    "\n",
    "xmean2 = xdata2.mean()\n",
    "xsig2 = xdata2.std()\n",
    "xvar2 = xsig2*xsig2\n",
    "\n",
    "xmean3 = xdata3.mean()\n",
    "xsig3 = xdata3.std()\n",
    "xvar3 = xsig3*xsig3\n",
    "\n",
    "print('For NDOF = ',ndof1,', mean = %5.3f'%xmean1,' and variance = %5.3f'%xvar1)\n",
    "print('For NDOF = ',ndof2,', mean = %5.3f'%xmean2,' and variance = %5.3f'%xvar2)\n",
    "print('For NDOF = ',ndof3,', mean = %6.3f'%xmean3,' and variance = %7.3f'%xvar3)\n",
    "\n",
    "plt.figure(1,figsize=(9,3))\n",
    "plt.subplot(131)\n",
    "counts,bins,patches = plt.hist(xdata1,nbins,normed=True,histtype='stepfilled',facecolor='skyblue',alpha=0.5)\n",
    "\n",
    "for i in range(len(bins)-1):\n",
    "    x1[i] = 0.5*(bins[i]+bins[i+1])\n",
    "    \n",
    "plt.plot(x1,probchisq(x1,ndof1),'b')\n",
    "\n",
    "plt.subplot(132)\n",
    "counts,bins,patches = plt.hist(xdata2,nbins,normed=True,histtype='stepfilled',facecolor='salmon',alpha=0.5)\n",
    "\n",
    "for i in range(len(bins)-1):\n",
    "    x2[i] = 0.5*(bins[i]+bins[i+1])\n",
    "    \n",
    "plt.plot(x2,probchisq(x2,ndof2),'r')\n",
    "\n",
    "plt.subplot(133)\n",
    "counts,bins,patches = plt.hist(xdata3,nbins,normed=True,histtype='stepfilled',facecolor='palegreen',alpha=0.5)\n",
    "\n",
    "for i in range(len(bins)-1):\n",
    "    x3[i] = 0.5*(bins[i]+bins[i+1])\n",
    "    \n",
    "plt.plot(x3,probchisq(x3,ndof3),'g')"
   ]
  },
  {
   "cell_type": "code",
   "execution_count": null,
   "metadata": {},
   "outputs": [],
   "source": []
  }
 ],
 "metadata": {
  "kernelspec": {
   "display_name": "LSST_Stack (Python 3)",
   "language": "python",
   "name": "lsst_stack"
  },
  "language_info": {
   "codemirror_mode": {
    "name": "ipython",
    "version": 3
   },
   "file_extension": ".py",
   "mimetype": "text/x-python",
   "name": "python",
   "nbconvert_exporter": "python",
   "pygments_lexer": "ipython3",
   "version": "3.5.2"
  }
 },
 "nbformat": 4,
 "nbformat_minor": 2
}
