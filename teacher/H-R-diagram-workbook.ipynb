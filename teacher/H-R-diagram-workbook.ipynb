{
 "cells": [
  {
   "cell_type": "markdown",
   "metadata": {},
   "source": [
    "# Step 1 - Introduction\n",
    "Lead a discussion with the students that uncludes the following points:\n"
   ]
  },
  {
   "cell_type": "markdown",
   "metadata": {
    "slideshow": "notes"
   },
   "source": [
    "**Energy Output (Brightness) and Filters**\n",
    "* Stars give off different amounts of energy that causes them to have different brightnesses.\n",
    "* We measure the energy output by drawing a circle around the star and \"adding up\" all the light inside it.\n",
    "* The LSST telescope takes pictures using six different wavelength filters, because objects give off different amounts of energy at different wavelengths. The `u g r i z y` are the names of the different filters that LSST uses when it's taking pictures."
   ]
  },
  {
   "cell_type": "markdown",
   "metadata": {},
   "source": [
    "**Estimating Temperatures**\n",
    "* We have already talked about the blackbody emission curve. The key thing is a star always emits a spectrum of light of different colors in a characteristic shape, and the peak wavelength of that shape is directly related to the star's temperature (Wein's Law).\n",
    "* Using all the LSST filters, we can estimate the wavelength at the peak of its blackbody curve, and then we know its temperature.\n",
    "* To figure out the shape of the blackbody curve we need to take measurements using the `u g r i z y` filters and plot them on an energy output versus wavelength graph."
   ]
  },
  {
   "cell_type": "code",
   "execution_count": 12,
   "metadata": {
    "slideshow": "-"
   },
   "outputs": [],
   "source": [
    "import astropy # Actual Energy Output (units?) vs Wavelength(nm) graph"
   ]
  },
  {
   "cell_type": "markdown",
   "metadata": {},
   "source": [
    "* We use these measurements to plot a blackbody emission curve so it fits those points.\n",
    "* This lets us estimate the peak wavelength of the star and its temperature."
   ]
  },
  {
   "cell_type": "markdown",
   "metadata": {},
   "source": [
    "# Step 2 - Overview\n",
    "Give the students an overview of the data they'll be working with."
   ]
  },
  {
   "cell_type": "markdown",
   "metadata": {},
   "source": [
    "**Overview**\n",
    "* Today we're going to be doing this for a while bunch of stars. Each of you will get a patch of sky to work with and we'll find the brightness and temperature for as many stars as we can.\n",
    "* Afterwards we're going to look at our data and see if we can find any patterns. I hope you'll be pleased to find that even with these simple measurements we can learn a lot about the different types of stars."
   ]
  },
  {
   "cell_type": "code",
   "execution_count": null,
   "metadata": {},
   "outputs": [],
   "source": []
  }
 ],
 "metadata": {
  "kernelspec": {
   "display_name": "LSST_Stack (Python 3)",
   "language": "python",
   "name": "lsst_stack"
  },
  "language_info": {
   "codemirror_mode": {
    "name": "ipython",
    "version": 3
   },
   "file_extension": ".py",
   "mimetype": "text/x-python",
   "name": "python",
   "nbconvert_exporter": "python",
   "pygments_lexer": "ipython3",
   "version": "3.5.2"
  }
 },
 "nbformat": 4,
 "nbformat_minor": 2
}
